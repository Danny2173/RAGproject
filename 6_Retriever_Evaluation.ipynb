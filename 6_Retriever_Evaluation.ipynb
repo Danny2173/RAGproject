{
  "nbformat": 4,
  "nbformat_minor": 0,
  "metadata": {
    "colab": {
      "provenance": [],
      "authorship_tag": "ABX9TyNEKLz1fnCeVLxHtnro5Ueg",
      "include_colab_link": true
    },
    "kernelspec": {
      "name": "python3",
      "display_name": "Python 3"
    },
    "language_info": {
      "name": "python"
    }
  },
  "cells": [
    {
      "cell_type": "markdown",
      "metadata": {
        "id": "view-in-github",
        "colab_type": "text"
      },
      "source": [
        "<a href=\"https://colab.research.google.com/github/Danny2173/RAGproject/blob/main/6_Retriever_Evaluation.ipynb\" target=\"_parent\"><img src=\"https://colab.research.google.com/assets/colab-badge.svg\" alt=\"Open In Colab\"/></a>"
      ]
    },
    {
      "cell_type": "markdown",
      "source": [
        "##Imports and Installs"
      ],
      "metadata": {
        "id": "JhKrKauMKz7K"
      }
    },
    {
      "cell_type": "code",
      "source": [
        "# Install dependencies\n",
        "%pip install -q transformers faiss-cpu peft tqdm scikit-learn nltk matplotlib\n",
        "\n",
        "# Mount Google Drive\n",
        "from google.colab import drive\n",
        "drive.mount('/content/drive')\n",
        "\n",
        "# Imports\n",
        "import os, json, re, pickle, itertools\n",
        "import numpy as np\n",
        "import pandas as pd\n",
        "import torch\n",
        "import faiss\n",
        "import matplotlib.pyplot as plt\n",
        "from collections import defaultdict\n",
        "from nltk.stem import PorterStemmer\n",
        "from tqdm import tqdm\n",
        "from sklearn.feature_extraction.text import TfidfVectorizer\n",
        "from sklearn.preprocessing import normalize\n",
        "from transformers import (\n",
        "    DPRQuestionEncoder,\n",
        "    DPRQuestionEncoderTokenizer,\n",
        "    AutoTokenizer,\n",
        "    AutoModelForSeq2SeqLM,\n",
        "    DPRContextEncoder,\n",
        "    DPRContextEncoderTokenizer,\n",
        "    LogitsProcessor,\n",
        "    LogitsProcessorList\n",
        ")\n",
        "from peft import PeftModel"
      ],
      "metadata": {
        "id": "J4rnHjTNG1cN"
      },
      "execution_count": null,
      "outputs": []
    },
    {
      "cell_type": "code",
      "source": [
        "from google.colab import drive\n",
        "drive.mount('/content/drive')"
      ],
      "metadata": {
        "colab": {
          "base_uri": "https://localhost:8080/"
        },
        "id": "IlbmviL8G3dE",
        "outputId": "783b5d09-c525-4e0b-9f5d-1885c04fe68c"
      },
      "execution_count": null,
      "outputs": [
        {
          "output_type": "stream",
          "name": "stdout",
          "text": [
            "Mounted at /content/drive\n"
          ]
        }
      ]
    },
    {
      "cell_type": "markdown",
      "source": [
        "## Load LoRA adapter weights"
      ],
      "metadata": {
        "id": "JH3ECX1mLD5Y"
      }
    },
    {
      "cell_type": "code",
      "source": [
        "device = torch.device(\"cuda\" if torch.cuda.is_available() else \"cpu\")\n",
        "print(\"Device:\", device)\n",
        "\n",
        "# Load tokenizer and LoRA model\n",
        "tokenizer = AutoTokenizer.from_pretrained(\"t5-large\")\n",
        "base_model = AutoModelForSeq2SeqLM.from_pretrained(\"t5-large\")\n",
        "model = PeftModel.from_pretrained(base_model, \"/content/drive/MyDrive/t5-lora-final\")\n",
        "model = model.to(device)\n"
      ],
      "metadata": {
        "id": "FGlJxm8nG41M"
      },
      "execution_count": null,
      "outputs": []
    },
    {
      "cell_type": "markdown",
      "source": [
        "##Loading necessary documents for FAISS Indexing"
      ],
      "metadata": {
        "id": "amXDmXPFLHnG"
      }
    },
    {
      "cell_type": "code",
      "source": [
        "with open(\"/content/drive/MyDrive/corpus_texts.pkl\", \"rb\") as f:\n",
        "    corpus_texts = pickle.load(f)\n",
        "\n",
        "with open(\"/content/drive/MyDrive/normalized_for_index.pkl\", \"rb\") as f:\n",
        "    normalized_for_index = pickle.load(f)\n",
        "\n",
        "with open(\"/content/drive/MyDrive/corpus.pkl\", \"rb\") as f:\n",
        "    corpus = pickle.load(f)\n",
        "\n",
        "index = faiss.read_index(\"/content/drive/MyDrive/faiss_index.index\")\n"
      ],
      "metadata": {
        "id": "gjbhBISeG6tk"
      },
      "execution_count": null,
      "outputs": []
    },
    {
      "cell_type": "markdown",
      "source": [
        "##Loading necessary documents for FAISS Indexing"
      ],
      "metadata": {
        "id": "n9JJOskELLX0"
      }
    },
    {
      "cell_type": "code",
      "source": [
        "def count_heading_term_matches(doc_text, matched_main_terms):\n",
        "    # Normalize text and main terms\n",
        "    doc_text = doc_text.lower()\n",
        "    matched_main_terms = set(matched_main_terms)\n",
        "\n",
        "    # Extracting titles and section headings\n",
        "    title_match = re.match(r\"^(.*?)\\n\", doc_text)\n",
        "    title = title_match.group(1) if title_match else \"\"\n",
        "\n",
        "    section_matches = re.findall(r\"^section:\\s*(.*?)$\", doc_text, flags=re.MULTILINE)\n",
        "    subsection_matches = re.findall(r\"^subsection:\\s*(.*?)$\", doc_text, flags=re.MULTILINE)\n",
        "    subsubsection_matches = re.findall(r\"^subsubsection:\\s*(.*?)$\", doc_text, flags=re.MULTILINE)\n",
        "\n",
        "    # Combining titles with section headings\n",
        "    heading_text = \" \".join([title] + section_matches + subsection_matches + subsubsection_matches)\n",
        "\n",
        "    # Tokenize heading text for comparison\n",
        "    heading_tokens = set(re.findall(r'\\b\\w[\\w\\s\\-]*\\w\\b', heading_text))\n",
        "\n",
        "    # Count matches\n",
        "    match_count = sum(1 for term in matched_main_terms if term in heading_text)\n",
        "\n",
        "    return match_count\n"
      ],
      "metadata": {
        "id": "snUjgFURHH-j"
      },
      "execution_count": null,
      "outputs": []
    },
    {
      "cell_type": "markdown",
      "source": [
        "## Importing Term Normalization functions"
      ],
      "metadata": {
        "id": "yHRb0KNLLNuN"
      }
    },
    {
      "cell_type": "code",
      "source": [
        "# Importing conversion functions\n",
        "\n",
        "with open(\"/content/drive/MyDrive/filtered_term_to_CUI.pkl\", \"rb\") as f:\n",
        "    term_to_CUI = pickle.load(f)\n",
        "\n",
        "with open(\"/content/drive/MyDrive/filtered_cui_to_main_term.pkl\", \"rb\") as f:\n",
        "    cui_to_main_term = pickle.load(f)\n",
        "\n",
        "# Creating ngrams and tracking indices\n",
        "def ngram_tokenize_tokens(tokens, max_len=5):\n",
        "    ngrams = []\n",
        "    for i in range(len(tokens)):\n",
        "        for j in range(i + 1, min(i + 1 + max_len, len(tokens) + 1)):\n",
        "            span = tokens[i:j]\n",
        "            ngram = ' '.join(span)\n",
        "            ngrams.append((ngram, i, j))\n",
        "    return ngrams\n",
        "\n",
        "# Normalizing medical terms using main condition name\n",
        "def cui_normalization(sentence, max_ngram_len=5):\n",
        "    tokens = re.findall(r'\\w+|\\W+', sentence)\n",
        "\n",
        "    # Filtering out words\n",
        "    words = [w.lower() for w in tokens if re.match(r'\\w+', w)]\n",
        "\n",
        "    # Call tokenization function to return ngrams tuples\n",
        "    ngrams = ngram_tokenize_tokens(words, max_ngram_len)\n",
        "    replacements = []\n",
        "\n",
        "    # Tracking matched CUIs\n",
        "    matched_cuis = set()\n",
        "\n",
        "    # Searching for terms in dictionary\n",
        "    for ngram, start, end in ngrams:\n",
        "        if ngram in term_to_CUI:\n",
        "            cui = term_to_CUI[ngram]\n",
        "            if cui in cui_to_main_term:\n",
        "                replacements.append((start, end, cui_to_main_term[cui]))\n",
        "                matched_cuis.add(cui)\n",
        "\n",
        "    # Sorting by length then index (ensure longer terms first)\n",
        "    replacements.sort(key=lambda x: (x[0], -(x[1] - x[0])))\n",
        "    used = set()\n",
        "    final = []\n",
        "    # Ensure no overlap (check already used indices)\n",
        "    for start, end, main_term in replacements:\n",
        "        if not any(i in used for i in range(start, end)):\n",
        "            final.append((start, end, main_term))\n",
        "            used.update(range(start, end))\n",
        "\n",
        "    # Reconstruct the sentence\n",
        "    word_idx = 0\n",
        "    output = []\n",
        "    i = 0\n",
        "    while i < len(tokens):\n",
        "        # If the token is a word\n",
        "        if re.match(r'\\w+', tokens[i]):\n",
        "            # Checking if index appears in final\n",
        "            match = next((f for f in final if f[0] == word_idx), None)\n",
        "            if match:\n",
        "                output.append(match[2]) # append main term\n",
        "                skip = match[1] - match[0]\n",
        "                while skip > 0 and i < len(tokens):\n",
        "                    if re.match(r'\\w+', tokens[i]):\n",
        "                        skip -= 1\n",
        "                    i += 1\n",
        "                # Update word-level index\n",
        "                word_idx += (match[1] - match[0])\n",
        "                continue\n",
        "            word_idx += 1\n",
        "        output.append(tokens[i])\n",
        "        i += 1\n",
        "\n",
        "    normalized_text = ''.join(output)\n",
        "    matched_main_terms = [term for _, _, term in final]\n",
        "    return normalized_text, matched_main_terms, list(matched_cuis)\n"
      ],
      "metadata": {
        "id": "FMNs3zdRHJg1"
      },
      "execution_count": null,
      "outputs": []
    },
    {
      "cell_type": "markdown",
      "source": [
        "##Building TF-IDF Vectorizer from the corpus"
      ],
      "metadata": {
        "id": "nw-5iI4hLR5w"
      }
    },
    {
      "cell_type": "code",
      "source": [
        "# Build TF-IDF vectorizer for exact matching\n",
        "tfidf_vectorizer = TfidfVectorizer(stop_words='english', max_features=10000)\n",
        "tfidf_matrix = tfidf_vectorizer.fit_transform(normalized_for_index)\n",
        "tfidf_matrix = normalize(tfidf_matrix)\n"
      ],
      "metadata": {
        "id": "b2nr_7wbHLdz"
      },
      "execution_count": null,
      "outputs": []
    },
    {
      "cell_type": "markdown",
      "source": [
        "## Gold Standard dataset"
      ],
      "metadata": {
        "id": "sgqXcWT3LZQA"
      }
    },
    {
      "cell_type": "code",
      "source": [
        "gold_standard_CE_set = [\n",
        "    {\"query\": \"Is type 2 diabetes reversible with lifestyle changes?\",\n",
        "     \"gold_answer\": \"Lifestyle changes can sometimes lower your blood glucose to a normal level and stop diabetes (remission).\",\n",
        "     \"gold_doc_index\": 1509},\n",
        "\n",
        "    {\"query\": \"Is epilepsy hereditary?\",\n",
        "     \"gold_answer\": \"It's thought that epilepsy is often related to the genes you inherit from your parents, or to changes in your genes.\",\n",
        "     \"gold_doc_index\": 1832},\n",
        "\n",
        "    {\"query\": \"What foods should people with celiac disease avoid?\",\n",
        "     \"gold_answer\": \"If you have coeliac disease, you must stop eating all sources of gluten for life.\",\n",
        "     \"gold_doc_index\": 1096},\n",
        "\n",
        "    {\"query\": \"When is surgery recommended for gallstones?\",\n",
        "     \"gold_answer\": \"If your symptoms are more severe and frequent, surgery to remove the gallbladder is usually recommended.\",\n",
        "     \"gold_doc_index\": 2295},\n",
        "\n",
        "    {\"query\": \"Where in the lungs does tuberculosis primarily affect?\",\n",
        "     \"gold_answer\": \"Tuberculosis (TB) is an infection that usually affects the lungs.\",\n",
        "     \"gold_doc_index\": 4729},\n",
        "\n",
        "    {\"query\": \"Where is inflammation seen in Crohn's disease?\",\n",
        "     \"gold_answer\": \"Crohn's disease is a long-term condition where part of your gut becomes inflamed.\",\n",
        "     \"gold_doc_index\": 1238},\n",
        "\n",
        "    {\"query\": \"What is the cure for silicosis?\",\n",
        "     \"gold_answer\": \"There's no cure for silicosis because the lung damage can't be reversed.\",\n",
        "     \"gold_doc_index\": 4476},\n",
        "\n",
        "    {\"query\": \"How long does an epileptic seizure last?\",\n",
        "     \"gold_answer\": \"A seizure usually lasts a few seconds or minutes, and stops by itself.\",\n",
        "     \"gold_doc_index\": 1824},\n",
        "\n",
        "    {\"query\": \"Can I smoke with insomnia?\",\n",
        "     \"gold_answer\": \"do not smoke or drink alcohol, tea or coffee at least 6 hours before going to bed\",\n",
        "     \"gold_doc_index\": 2656},\n",
        "\n",
        "    {\"query\": \"Is Scarlet fever contagious?\",\n",
        "     \"gold_answer\": \"Scarlet fever is a contagious infection\",\n",
        "     \"gold_doc_index\": 4399}\n",
        "]\n",
        "\n",
        "gold_standard_OE_set = [\n",
        "    {\"query\":\"What are the symptoms of liver cancer?\",\n",
        "        \"gold_answer\": \"Symptoms of liver cancer can include the whites of your eyes turning yellow or your skin turning yellow, which may be less obvious on brown or black skin ( jaundice ) - you may also have itchy skin, darker pee and paler poo than usual, loss of appetite or losing weight without trying to, feeling tired or having no energy, feeling generally unwell or having symptoms like flu, a lump in the right side of your tummy\",\n",
        "        \"gold_doc_index\":2945},\n",
        "    {\"query\":\"What causes heart failure?\",\n",
        "        \"gold_answer\": \"Conditions that can lead to heart failure include coronary heart disease - where the arteries that supply blood to the heart become clogged up with fatty substances ( atherosclerosis ), which may cause angina or a heart attack, high blood pressure - this can put extra strain on the heart, which over time can lead to heart failure, conditions affecting the heart muscle ( cardiomyopathy ), heart rhythm problems ( arrhythmias ), such as atrial fibrillation, damage or other problems with the heart valves, congenital heart disease - birth defects that affect the normal workings of the heart, and Sometimes obesity, anaemia, drinking too much alcohol, an overactive thyroid or high pressure in the lungs ( pulmonary hypertension ) can also lead to heart failure.\",\n",
        "        \"gold_doc_index\":2279},\n",
        "    {\"query\":\"What is the treatment for gum disease?\",\n",
        "        \"gold_answer\": \"In the early stages, your dentist will give you advice about keeping your teeth clean, such as using interdental brushes, advise you to stop smoking, if you smoke, advise you to get your teeth cleaned by a hygienist, If your gum disease is serious, you may need, to have deep cleaning under the gums, antibiotics, to have some teeth removed or gum surgery\",\n",
        "        \"gold_doc_index\":2148},\n",
        "    {\"query\":\"What are the early signs of Alzheimer's disease\",\n",
        "        \"gold_answer\": \"The first sign of Alzheimer's disease is usually minor memory problems. For example, this could be forgetting about recent conversations or events, and forgetting the names of places and objects. As the condition develops, memory problems become more severe and further symptoms can develop, such as confusion, disorientation and getting lost in familiar places, difficulty planning or making decisions, problems with speech and language, problems moving around without assistance or performing self-care tasks, personality changes, such as becoming aggressive, demanding and suspicious of others, hallucinations (seeing or hearing things that are not there) and delusions (believing things that are untrue), low mood or anxiety.\",\n",
        "        \"gold_doc_index\":133},\n",
        "    {\"query\":\"How can i manage my type 2 diabetes?\",\n",
        "        \"gold_answer\": \"try to eat a healthy diet including fruit, vegetables, wholegrain foods such as wholemeal bread and oats, and pulses such as chickpeas and lentils, improve your diet slowly if you're finding it difficult - a small change every week can make it easier, talk to a GP or diabetes nurse if you're finding it hard to change your diet as they may be able to find support in your local area, try to spend at least 2.5 hours (across the whole week) either walking or doing another activity that leaves you out of breath, try to lose weight if you've been told you're overweight, stop smoking - having diabetes increases the harmful effects of smoking, try to limit how much alcohol you drink, and have regular dental check-ups to help prevent gum disease.\",\n",
        "        \"gold_doc_index\":1509},\n",
        "    {\"query\": \"Is motor neurone disease curable?\",\n",
        "        \"gold_answer\": \"It's usually life-shortening and there's currently no cure, but treatment can help manage the symptoms.\",\n",
        "        \"gold_doc_index\": 3242},\n",
        "    {\"query\": \"How is malnutrition diagnosed?\",\n",
        "        \"gold_answer\": \"A GP can check if you're at risk of malnutrition by measuring your weight and height, and asking about any medical problems you have or any recent changes in your weight or appetite.\",\n",
        "        \"gold_doc_index\": 3098},\n",
        "    {\"query\": \"How can I prevent heart disease?\",\n",
        "        \"gold_answer\": \"You can reduce your risk of getting coronary disease by making some simple lifestyle changes. These include eating a healthy, balanced diet, being physically active, giving up smoking, controlling blood cholesterol and sugar levels, and Keeping your heart healthy\",\n",
        "        \"gold_doc_index\": 2255},\n",
        "    {\"query\": \"How can high-risk individuals stay safe from COVID-19?\",\n",
        "        \"gold_answer\": \"If you or your child are at increased risk of getting ill from COVID-19, try to avoid contact with people who have symptoms of COVID-19 until they feel better.\",\n",
        "        \"gold_doc_index\": 1195},\n",
        "    {\"query\": \"What is Narcolepsy?\",\n",
        "        \"gold_answer\": \"Narcolepsy is a rare long-term brain condition that can prevent a person from choosing when to wake or sleep.\",\n",
        "        \"gold_doc_index\": 3386},\n",
        "    {\"query\": \"What medication should I take for a cold?\",\n",
        "        \"gold_answer\": \"medicines like paracetamol or ibuprofen to ease aches or lower a temperature\",\n",
        "        \"gold_doc_index\": 1115},\n",
        "    {\"query\": \"What is the difference between type 1 diabetes and type 2 diabetes?\",\n",
        "        \"gold_answer\": \"Type 2 diabetes is different to type 1 diabetes, which is caused by a problem with your immune system. Unlike type 1 diabetes, type 2 diabetes may be prevented.\",\n",
        "        \"gold_doc_index\": 1518},\n",
        "    {\"query\": \"What triggers asthma attacks in children?\",\n",
        "        \"gold_answer\": \"symptoms can be triggered by different things, such as allergies, exercise, smoke, cold air or infections.\",\n",
        "        \"gold_doc_index\": 392},\n",
        "    {\"query\": \"What foods help improve iron-deficiency anemia?\",\n",
        "        \"gold_answer\": \"Eat more dark-green leafy vegetables like watercress and curly kale, cereals and bread with extra iron in them (fortified), meat, dried fruit like apricots, prunes and raisins, pulses (beans, peas and lentils)\",\n",
        "        \"gold_doc_index\": 165},\n",
        "    {\"query\": \"Is a high temperature a sign of Malaria?\",\n",
        "        \"gold_answer\": \"Malaria can be hard to spot, but symptoms include a high temperature\",\n",
        "        \"gold_doc_index\": 3077},\n",
        "    {\"query\": \"What are the warning signs of a stroke?\",\n",
        "        \"gold_answer\": \"Face weakness - one side of your face may droop (fall) and it might be hard to smile, arm weakness - you may not be able to fully lift both arms and keep them there because of weakness or numbness in 1 arm, speech problems - you may slur your words or sound confused, and The easiest way to remember these symptoms is the word FAST.\",\n",
        "        \"gold_doc_index\": 4662},\n",
        "    {\"query\": \"What is the surgical procedure to remove cataracts?\",\n",
        "        \"gold_answer\": \"The cloudy lens is replaced with an artificial one.\",\n",
        "        \"gold_doc_index\": 824},\n",
        "    {\"query\": \"How is tuberculosis transmitted from person to person?\",\n",
        "        \"gold_answer\": \"When someone with active TB coughs, they release small droplets containing the bacteria. You can catch TB if you regularly breathe in these droplets over a long period of time.\",\n",
        "        \"gold_doc_index\": 4732},\n",
        "    {\"query\": \"What should I do if I have problems with my hearing?\",\n",
        "        \"gold_answer\": \"See a GP if you have problems with your hearing.\",\n",
        "        \"gold_doc_index\": 1298},\n",
        "    {\"query\": \"How serious are mouth ulcers?\",\n",
        "        \"gold_answer\": \"Mouth ulcers are rarely a sign of anything serious, but may be uncomfortable to live with.\",\n",
        "        \"gold_doc_index\": 3261}\n",
        "]"
      ],
      "metadata": {
        "id": "_oIghXD2IvYn"
      },
      "execution_count": null,
      "outputs": []
    },
    {
      "cell_type": "code",
      "source": [
        "# Import Query encoder\n",
        "q_encoder = DPRQuestionEncoder.from_pretrained(\"facebook/dpr-question_encoder-single-nq-base\").to(device)\n",
        "q_tokenizer = DPRQuestionEncoderTokenizer.from_pretrained(\"facebook/dpr-question_encoder-single-nq-base\")\n",
        "\n",
        "# Logic with and without TF-IDF\n",
        "\n",
        "def retrieve_indices(query: str, use_tfidf: bool = True, top_k: int = 5):\n",
        "    # FAISS Dense Retrieval\n",
        "    inputs = q_tokenizer(query, return_tensors=\"pt\", truncation=True).to(device)\n",
        "    with torch.no_grad():\n",
        "        q_emb = q_encoder(**inputs).pooler_output.cpu().numpy()\n",
        "        q_emb /= np.linalg.norm(q_emb, axis=1, keepdims=True)\n",
        "\n",
        "    scores, indices = index.search(q_emb, 600)\n",
        "    faiss_indices = indices[0]\n",
        "    faiss_scores = scores[0]\n",
        "    index_scores = {idx: score for idx, score in zip(faiss_indices, faiss_scores)}\n",
        "\n",
        "    if not use_tfidf:\n",
        "        # Only FAISS Retrieval\n",
        "        ranked_indices = sorted(index_scores.items(), key=lambda x: -x[1])\n",
        "        return [idx for idx, _ in ranked_indices[:top_k]]\n",
        "\n",
        "    # Boosting Logic (TF-IDF + Heading Matches)\n",
        "    normalized_query, matched_main_terms, _ = cui_normalization(query)\n",
        "    heading_matched_indices = [\n",
        "        i for i, doc_text in enumerate(normalized_for_index)\n",
        "        if any(term in doc_text.split('.')[0].lower() for term in matched_main_terms)\n",
        "    ]\n",
        "\n",
        "    tfidf_query_vec = tfidf_vectorizer.transform([normalized_query])\n",
        "    tfidf_query_vec = normalize(tfidf_query_vec)\n",
        "    tfidf_scores = (tfidf_matrix @ tfidf_query_vec.T).toarray().flatten()\n",
        "\n",
        "    all_indices = set(faiss_indices.tolist()) | set(heading_matched_indices)\n",
        "    for idx in all_indices:\n",
        "        if idx not in index_scores:\n",
        "            index_scores[idx] = 0.1\n",
        "\n",
        "    boosted_scores = {}\n",
        "    for idx in all_indices:\n",
        "        dense_score = index_scores.get(idx, 0.1)\n",
        "        sparse_score = tfidf_scores[idx]\n",
        "        heading_matches = count_heading_term_matches(normalized_for_index[idx], matched_main_terms)\n",
        "        boosted_scores[idx] = 0.9 * dense_score + 0.1 * sparse_score + 0.1 * heading_matches\n",
        "\n",
        "    ranked_indices = sorted(boosted_scores.items(), key=lambda x: -x[1])\n",
        "    return [idx for idx, _ in ranked_indices[:top_k]]\n",
        "\n"
      ],
      "metadata": {
        "colab": {
          "base_uri": "https://localhost:8080/"
        },
        "id": "gLYZ3kdDImxo",
        "outputId": "2b29d48f-8510-4fc6-a8cb-96436ed0bb17"
      },
      "execution_count": null,
      "outputs": [
        {
          "output_type": "stream",
          "name": "stderr",
          "text": [
            "Some weights of the model checkpoint at facebook/dpr-question_encoder-single-nq-base were not used when initializing DPRQuestionEncoder: ['question_encoder.bert_model.pooler.dense.bias', 'question_encoder.bert_model.pooler.dense.weight']\n",
            "- This IS expected if you are initializing DPRQuestionEncoder from the checkpoint of a model trained on another task or with another architecture (e.g. initializing a BertForSequenceClassification model from a BertForPreTraining model).\n",
            "- This IS NOT expected if you are initializing DPRQuestionEncoder from the checkpoint of a model that you expect to be exactly identical (initializing a BertForSequenceClassification model from a BertForSequenceClassification model).\n"
          ]
        }
      ]
    },
    {
      "cell_type": "code",
      "source": [
        "def evaluate_recall_detailed(gold_set, use_tfidf=True, max_k=10):\n",
        "    failure_cases = []\n",
        "    total = len(gold_set)\n",
        "    hit_counts = [0] * (max_k + 1)  # Recall@1 stored in hit_counts[1]\n",
        "\n",
        "    for entry in gold_set:\n",
        "        query = entry[\"query\"]\n",
        "        gold_doc_index = entry[\"gold_doc_index\"]\n",
        "        retrieved = retrieve_indices(query, use_tfidf=use_tfidf, top_k=100)  # Search in Top-100 for analysis\n",
        "\n",
        "        found_at_rank = None\n",
        "        for rank, idx in enumerate(retrieved, start=1):\n",
        "            if idx == gold_doc_index:\n",
        "                found_at_rank = rank\n",
        "                break\n",
        "\n",
        "        for K in range(1, max_k + 1):\n",
        "            if found_at_rank and found_at_rank <= K:\n",
        "                hit_counts[K] += 1\n",
        "\n",
        "        if not found_at_rank or found_at_rank > max_k:\n",
        "            failure_cases.append({\n",
        "                \"query\": query,\n",
        "                \"gold_doc_index\": gold_doc_index,\n",
        "                \"found_at_rank\": found_at_rank\n",
        "            })\n",
        "\n",
        "    recall_scores = [hit_counts[K] / total for K in range(1, max_k + 1)]\n",
        "    return recall_scores, failure_cases\n"
      ],
      "metadata": {
        "id": "2VuoswW8N9ZT"
      },
      "execution_count": null,
      "outputs": []
    },
    {
      "cell_type": "code",
      "source": [
        "# FAISS Only\n",
        "recall_faiss_OE, failures_faiss_OE = evaluate_recall_detailed(gold_standard_OE_set, use_tfidf=False)\n",
        "recall_faiss_CE, failures_faiss_CE = evaluate_recall_detailed(gold_standard_CE_set, use_tfidf=False)\n",
        "\n",
        "# Boosted Retrieval (TF-IDF + Title Matching)\n",
        "recall_boosted_OE, failures_boosted_OE = evaluate_recall_detailed(gold_standard_OE_set, use_tfidf=True)\n",
        "recall_boosted_CE, failures_boosted_CE = evaluate_recall_detailed(gold_standard_CE_set, use_tfidf=True)\n",
        "\n",
        "# Recall@K Curves\n",
        "print(\"FAISS Recall (OE):\", [\"Recall@{}: {:.2f}\".format(k+1, r) for k, r in enumerate(recall_faiss_OE)])\n",
        "print(\"FAISS Recall (CE):\", [\"Recall@{}: {:.2f}\".format(k+1, r) for k, r in enumerate(recall_faiss_CE)])\n",
        "print(\"Boosted Retrieval Recall (OE):\", [\"Recall@{}: {:.2f}\".format(k+1, r) for k, r in enumerate(recall_boosted_OE)])\n",
        "print(\"Boosted Retrieval Recall (CE):\", [\"Recall@{}: {:.2f}\".format(k+1, r) for k, r in enumerate(recall_boosted_CE)])\n",
        "\n",
        "# which didn't appear in top-K)\n",
        "print(\"Failures FAISS OE:\", failures_faiss_OE)\n",
        "print(\"Failures FAISS CE:\", failures_faiss_CE)\n",
        "print(\"Failures Boosted OE:\", failures_boosted_OE)\n",
        "print(\"Failures Boosted CE:\", failures_boosted_CE)\n"
      ],
      "metadata": {
        "colab": {
          "base_uri": "https://localhost:8080/"
        },
        "id": "BMh2xAzhN-t0",
        "outputId": "324a8d9e-6a67-450f-b1f0-47bec9306826"
      },
      "execution_count": null,
      "outputs": [
        {
          "output_type": "stream",
          "name": "stdout",
          "text": [
            "FAISS Recall (OE): ['Recall@1: 0.10', 'Recall@2: 0.25', 'Recall@3: 0.30', 'Recall@4: 0.35', 'Recall@5: 0.40', 'Recall@6: 0.40', 'Recall@7: 0.45', 'Recall@8: 0.55', 'Recall@9: 0.55', 'Recall@10: 0.65']\n",
            "FAISS Recall (CE): ['Recall@1: 0.30', 'Recall@2: 0.50', 'Recall@3: 0.60', 'Recall@4: 0.70', 'Recall@5: 0.70', 'Recall@6: 0.70', 'Recall@7: 0.70', 'Recall@8: 0.70', 'Recall@9: 0.70', 'Recall@10: 0.70']\n",
            "Boosted Retrieval Recall (OE): ['Recall@1: 0.20', 'Recall@2: 0.45', 'Recall@3: 0.65', 'Recall@4: 0.70', 'Recall@5: 0.75', 'Recall@6: 0.80', 'Recall@7: 0.80', 'Recall@8: 0.85', 'Recall@9: 0.90', 'Recall@10: 0.95']\n",
            "Boosted Retrieval Recall (CE): ['Recall@1: 0.50', 'Recall@2: 0.60', 'Recall@3: 0.70', 'Recall@4: 0.70', 'Recall@5: 0.80', 'Recall@6: 0.80', 'Recall@7: 0.80', 'Recall@8: 0.80', 'Recall@9: 0.80', 'Recall@10: 0.80']\n",
            "\n",
            "Failures - FAISS OE: [{'query': 'How can high-risk individuals stay safe from COVID-19?', 'gold_doc_index': 1195, 'found_at_rank': 49}, {'query': 'What triggers asthma attacks in children?', 'gold_doc_index': 392, 'found_at_rank': None}, {'query': 'Is a high temperature a sign of Malaria?', 'gold_doc_index': 3077, 'found_at_rank': 12}, {'query': 'What are the warning signs of a stroke?', 'gold_doc_index': 4662, 'found_at_rank': 13}, {'query': 'What is the surgical procedure to remove cataracts?', 'gold_doc_index': 824, 'found_at_rank': None}, {'query': 'What should I do if I have problems with my hearing?', 'gold_doc_index': 1298, 'found_at_rank': 11}, {'query': 'How serious are mouth ulcers?', 'gold_doc_index': 3261, 'found_at_rank': 92}]\n",
            "Failures - FAISS CE: [{'query': 'Is epilepsy hereditary?', 'gold_doc_index': 1832, 'found_at_rank': None}, {'query': 'When is surgery recommended for gallstones?', 'gold_doc_index': 2295, 'found_at_rank': None}, {'query': 'What is the cure for silicosis?', 'gold_doc_index': 4476, 'found_at_rank': 25}]\n",
            "Failures - Boosted OE: [{'query': 'What is the surgical procedure to remove cataracts?', 'gold_doc_index': 824, 'found_at_rank': 18}]\n",
            "Failures - Boosted CE: [{'query': 'Is epilepsy hereditary?', 'gold_doc_index': 1832, 'found_at_rank': None}, {'query': 'When is surgery recommended for gallstones?', 'gold_doc_index': 2295, 'found_at_rank': None}]\n"
          ]
        }
      ]
    },
    {
      "cell_type": "code",
      "source": [
        "# Plot Recall Curve\n",
        "\n",
        "k_values = list(range(1, 11))\n",
        "\n",
        "plt.figure(figsize=(10, 6))\n",
        "plt.plot(k_values, recall_faiss_OE, 'b--o', label='DPR Recall (OE)', linewidth=2, markersize=6)\n",
        "plt.plot(k_values, recall_boosted_OE, 'b-o', label='Boosted DPR Recall (OE)', linewidth=2, markersize=6)\n",
        "plt.plot(k_values, recall_faiss_CE, 'r--s', label='DPR Recall (CE)', linewidth=2, markersize=6)\n",
        "plt.plot(k_values, recall_boosted_CE, 'r-s', label='Boosted DPR Recall (CE)', linewidth=2, markersize=6)\n",
        "\n",
        "plt.fill_between(k_values, recall_faiss_OE, recall_boosted_OE, color='blue', alpha=0.1)\n",
        "plt.fill_between(k_values, recall_faiss_CE, recall_boosted_CE, color='red', alpha=0.1)\n",
        "\n",
        "\n",
        "plt.title('Recall@K Comparison', fontsize=16)\n",
        "plt.xlabel('K', fontsize=14)\n",
        "plt.ylabel('Recall', fontsize=14)\n",
        "plt.xticks(k_values, fontsize=12)\n",
        "plt.yticks(fontsize=12)\n",
        "plt.legend(fontsize=12)\n",
        "plt.grid(alpha=0.3)\n",
        "plt.tight_layout()\n",
        "plt.show()"
      ],
      "metadata": {
        "colab": {
          "base_uri": "https://localhost:8080/",
          "height": 594
        },
        "id": "niLdECkCUFWl",
        "outputId": "35696113-6da3-4146-b7ca-38dc770231b6"
      },
      "execution_count": null,
      "outputs": [
        {
          "output_type": "display_data",
          "data": {
            "text/plain": [
              "<Figure size 1000x600 with 1 Axes>"
            ],
            "image/png": "[encoded data removed]"
          },
          "metadata": {}
        }
      ]
    }
  ]
}