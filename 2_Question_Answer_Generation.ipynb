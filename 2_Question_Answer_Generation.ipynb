{
  "nbformat": 4,
  "nbformat_minor": 0,
  "metadata": {
    "colab": {
      "provenance": [],
      "gpuType": "T4",
      "authorship_tag": "ABX9TyNNo1U4NXmG12i4ilz5bzV7",
      "include_colab_link": true
    },
    "kernelspec": {
      "name": "python3",
      "display_name": "Python 3"
    },
    "language_info": {
      "name": "python"
    },
    "accelerator": "GPU"
  },
  "cells": [
    {
      "cell_type": "markdown",
      "metadata": {
        "id": "view-in-github",
        "colab_type": "text"
      },
      "source": [
        "<a href=\"https://colab.research.google.com/github/Danny2173/RAGproject/blob/main/2_Question_Answer_Generation.ipynb\" target=\"_parent\"><img src=\"https://colab.research.google.com/assets/colab-badge.svg\" alt=\"Open In Colab\"/></a>"
      ]
    },
    {
      "cell_type": "markdown",
      "source": [
        "##Imports and Installs"
      ],
      "metadata": {
        "id": "2_qAPCqsUo7i"
      }
    },
    {
      "cell_type": "code",
      "execution_count": null,
      "metadata": {
        "colab": {
          "base_uri": "https://localhost:8080/"
        },
        "id": "YQyxAH3SmfFi",
        "outputId": "ecf2d79a-3e9b-419d-a003-f1b4bfe413ae"
      },
      "outputs": [
        {
          "output_type": "stream",
          "name": "stdout",
          "text": [
            "Mounted at /content/drive\n"
          ]
        }
      ],
      "source": [
        "# Install dependencies\n",
        "%pip install -q transformers openai tqdm\n",
        "\n",
        "# Mount Google Drive\n",
        "from google.colab import drive\n",
        "drive.mount('/content/drive')\n",
        "\n",
        "# Imports\n",
        "import json, time\n",
        "from transformers import AutoModelForSeq2SeqLM, AutoTokenizer\n",
        "from tqdm import tqdm\n",
        "import openai\n"
      ]
    },
    {
      "cell_type": "markdown",
      "source": [
        "##Loading Corpus"
      ],
      "metadata": {
        "id": "Yf0Vch_MVk_K"
      }
    },
    {
      "cell_type": "code",
      "source": [
        "load_path = '/content/drive/MyDrive/corpus.json'\n",
        "\n",
        "# Load the corpus\n",
        "with open(load_path, \"r\") as f:\n",
        "    corpus = json.load(f)\n",
        "\n",
        "print(\"Corpus loaded\")\n"
      ],
      "metadata": {
        "colab": {
          "base_uri": "https://localhost:8080/"
        },
        "id": "WJu04ELan-Mv",
        "outputId": "966faff6-dae7-4e6b-c174-96295ff598d4"
      },
      "execution_count": null,
      "outputs": [
        {
          "output_type": "stream",
          "name": "stdout",
          "text": [
            "Corpus loaded\n"
          ]
        }
      ]
    },
    {
      "cell_type": "code",
      "source": [
        "# Preview formatted text\n",
        "for i, doc in enumerate(corpus[:7]):\n",
        "    print(f\"Document {i+1}\")\n",
        "    print(doc[\"text\"])\n",
        "    print(\"-\" * 100)\n"
      ],
      "metadata": {
        "id": "x6te5M1DAGMd"
      },
      "execution_count": null,
      "outputs": []
    },
    {
      "cell_type": "markdown",
      "source": [
        "##Generating questions and answers based on the context passages"
      ],
      "metadata": {
        "id": "-QC07uR_-QjR"
      }
    },
    {
      "cell_type": "code",
      "source": [
        "# Load FLAN-T5 model\n",
        "model = \"google/flan-t5-large\"\n",
        "qa_tokenizer = AutoTokenizer.from_pretrained(model)\n",
        "qa_model = AutoModelForSeq2SeqLM.from_pretrained(model).to(\"cuda\")\n",
        "\n",
        "# Initialise\n",
        "synthetic_dataset = []\n",
        "\n",
        "# Create one pair per chunk, with a progress bar\n",
        "for chunk in tqdm(corpus, desc=\"Generating qa pairs\"):\n",
        "    context = chunk[\"text\"]\n",
        "\n",
        "    # Generate question\n",
        "    prompt_q = f\"You are a medical question writer. Based on the passage below, generate a clear, specific, factual question that could be answered from the passage. Passage: {context}\"\n",
        "    inputs_q = qa_tokenizer(prompt_q, return_tensors=\"pt\", truncation=True, max_length=512).to(\"cuda\")\n",
        "    outputs_q = qa_model.generate(**inputs_q, max_length=64)\n",
        "    question = qa_tokenizer.decode(outputs_q[0], skip_special_tokens=True)\n",
        "\n",
        "    # Generate answer\n",
        "    prompt_a = f\"Based on the text:\\n{context}\\nAnswer this question: {question}\"\n",
        "    inputs_a = qa_tokenizer(prompt_a, return_tensors=\"pt\", truncation=True, max_length=512).to(\"cuda\")\n",
        "    outputs_a = qa_model.generate(**inputs_a, max_length=256)\n",
        "    answer = qa_tokenizer.decode(outputs_a[0], skip_special_tokens=True)\n",
        "\n",
        "    # Save the qa pair\n",
        "    synthetic_dataset.append({\n",
        "        \"context\": context,\n",
        "        \"question\": question,\n",
        "        \"answer\": answer\n",
        "    })\n",
        "\n",
        "    # time.sleep(0.3)  # prevent GPU overload\n",
        "\n",
        "with open(\"synthetic_dataset.json\", \"w\") as f:\n",
        "    json.dump(synthetic_dataset, f, indent=2)"
      ],
      "metadata": {
        "id": "wnlTw9iP-bCt"
      },
      "execution_count": null,
      "outputs": []
    },
    {
      "cell_type": "code",
      "source": [
        "for i, item in enumerate(synthetic_dataset[:10], 1):\n",
        "    print(f\"Example {i}\")\n",
        "    print(\"Context:\", item[\"context\"][:200].strip().replace(\"\\n\", \" \"))\n",
        "    print(\"Question:\", item[\"question\"])\n",
        "    print(\"Answer:\", item[\"answer\"])\n"
      ],
      "metadata": {
        "id": "VrAdE5ORlPpF"
      },
      "execution_count": null,
      "outputs": []
    },
    {
      "cell_type": "markdown",
      "source": [
        "##Saving synthetic dataset"
      ],
      "metadata": {
        "id": "H3wlINN5fyQn"
      }
    },
    {
      "cell_type": "code",
      "source": [
        "save_path = '/content/drive/MyDrive/synthetic_dataset.json'\n",
        "\n",
        "# Save as JSON\n",
        "with open(save_path, \"w\", encoding=\"utf-8\") as f:\n",
        "    json.dump(synthetic_dataset, f, ensure_ascii=False, indent=2)\n",
        "\n",
        "print(f\"Saved to {save_path}\")"
      ],
      "metadata": {
        "colab": {
          "base_uri": "https://localhost:8080/"
        },
        "id": "7aHsjyl4EP3F",
        "outputId": "dc8dd37f-a1b8-4679-e529-ec8b6d5c72d7"
      },
      "execution_count": null,
      "outputs": [
        {
          "output_type": "stream",
          "name": "stdout",
          "text": [
            "Saved to /content/drive/MyDrive/synthetic_dataset.json\n"
          ]
        }
      ]
    },
    {
      "cell_type": "code",
      "source": [
        "load_path = '/content/drive/MyDrive/synthetic_dataset.json'\n",
        "\n",
        "# Load JSON file\n",
        "with open(load_path, \"r\", encoding=\"utf-8\") as f:\n",
        "    synthetic_dataset = json.load(f)\n",
        "\n",
        "print(\"Loaded qa pairs\")"
      ],
      "metadata": {
        "id": "s--_SVLagoQB",
        "colab": {
          "base_uri": "https://localhost:8080/"
        },
        "outputId": "90f8a6d9-b836-4389-992e-89e0289798cf"
      },
      "execution_count": null,
      "outputs": [
        {
          "output_type": "stream",
          "name": "stdout",
          "text": [
            "Loaded qa pairs\n"
          ]
        }
      ]
    },
    {
      "cell_type": "markdown",
      "source": [
        "##Expanding the answers to form longer, grammatically correct sentences."
      ],
      "metadata": {
        "id": "zB9V3nKbf36c"
      }
    },
    {
      "cell_type": "code",
      "source": [
        "# Set your OpenAI API key\n",
        "openai.api_key = \"REPLACE_WITH_YOUR_OPENAI_API_KEY\""
      ],
      "metadata": {
        "id": "SvKgneIVl4LW"
      },
      "execution_count": null,
      "outputs": []
    },
    {
      "cell_type": "code",
      "source": [
        "# OpenAI client\n",
        "client = openai.OpenAI(\n",
        "    api_key=openai.api_key\n",
        ")\n",
        "\n",
        "# Expnading each answer\n",
        "expanded_data = []\n",
        "for i, item in enumerate(tqdm(synthetic_dataset, desc=\"Expanding answers\")):\n",
        "    question = item[\"question\"]\n",
        "    short_answer = item[\"answer\"]\n",
        "    context = item[\"context\"]\n",
        "\n",
        "    prompt = (\n",
        "        f\"Context:\\n{context}\\n\\n\"\n",
        "        f\"Question: {question}\\n\"\n",
        "        f\"Short Answer: {short_answer}\\n\\n\"\n",
        "        f\"Rewrite the short answer into a full-sentence answer that directly responds to the question.\"\n",
        "    )\n",
        "\n",
        "    response = client.chat.completions.create(\n",
        "        model=\"gpt-3.5-turbo\",\n",
        "        messages=[{\"role\": \"user\", \"content\": prompt}],\n",
        "        temperature=0.4,\n",
        "    )\n",
        "\n",
        "    full_answer = response.choices[0].message.content.strip()\n",
        "\n",
        "    if (i + 1) % 100 == 0 or i < 5:\n",
        "        print(f\"Example {i+1}\")\n",
        "        print(\"Question:\", question)\n",
        "        print(\"Short Answer:\", short_answer)\n",
        "        print(\"Expanded Answer:\", full_answer)\n",
        "\n",
        "    item[\"answer\"] = full_answer\n",
        "    expanded_data.append(item)\n",
        "\n",
        "with open(\"expanded_dataset.json\", \"w\", encoding=\"utf-8\") as f:\n",
        "    json.dump(expanded_data, f, indent=2, ensure_ascii=False)"
      ],
      "metadata": {
        "colab": {
          "base_uri": "https://localhost:8080/"
        },
        "id": "02M66MDAoK51",
        "outputId": "87efceb5-3c3e-4656-cf00-b42d5af02d8e"
      },
      "execution_count": null,
      "outputs": [
        {
          "output_type": "stream",
          "name": "stderr",
          "text": [
            "Expanding answers:   0%|          | 1/5121 [00:02<3:35:54,  2.53s/it]"
          ]
        },
        {
          "output_type": "stream",
          "name": "stdout",
          "text": [
            "Example 1\n",
            "Question: What is the name for dry, dark patches of skin that usually appear in the armpits, neck or groin?\n",
            "Short Answer: Acanthosis nigricans\n",
            "Expanded Answer: Acanthosis nigricans is the name for dry, dark patches of skin that usually appear in the armpits, neck, or groin.\n"
          ]
        },
        {
          "output_type": "stream",
          "name": "stderr",
          "text": [
            "\rExpanding answers:   0%|          | 2/5121 [00:03<2:36:14,  1.83s/it]"
          ]
        },
        {
          "output_type": "stream",
          "name": "stdout",
          "text": [
            "Example 2\n",
            "Question: What is the most common cause of acanthosis nigricans?\n",
            "Short Answer: obesity\n",
            "Expanded Answer: Obesity is the most common cause of acanthosis nigricans.\n"
          ]
        },
        {
          "output_type": "stream",
          "name": "stderr",
          "text": [
            "\rExpanding answers:   0%|          | 3/5121 [00:05<2:44:48,  1.93s/it]"
          ]
        },
        {
          "output_type": "stream",
          "name": "stdout",
          "text": [
            "Example 3\n",
            "Question: What is the name of the rare disorder of the food pipe?\n",
            "Short Answer: Achalasia\n",
            "Expanded Answer: The name of the rare disorder of the food pipe is Achalasia.\n"
          ]
        },
        {
          "output_type": "stream",
          "name": "stderr",
          "text": [
            "\rExpanding answers:   0%|          | 4/5121 [00:06<2:04:03,  1.45s/it]"
          ]
        },
        {
          "output_type": "stream",
          "name": "stdout",
          "text": [
            "Example 4\n",
            "Question: What is the name of the test used to measure the muscle pressure along the oesophagus?\n",
            "Short Answer: manometry\n",
            "Expanded Answer: The test used to measure the muscle pressure along the oesophagus is called manometry.\n"
          ]
        },
        {
          "output_type": "stream",
          "name": "stderr",
          "text": [
            "\rExpanding answers:   0%|          | 5/5121 [00:07<1:39:01,  1.16s/it]"
          ]
        },
        {
          "output_type": "stream",
          "name": "stdout",
          "text": [
            "Example 5\n",
            "Question: What is the name of the balloon that is inflated to help stretch the ring of muscle that lets food into your stomach?\n",
            "Short Answer: balloon dilation\n",
            "Expanded Answer: The balloon that is inflated to help stretch the ring of muscle that lets food into your stomach is called balloon dilation.\n"
          ]
        },
        {
          "output_type": "stream",
          "name": "stderr",
          "text": [
            "Expanding answers:   2%|▏         | 100/5121 [01:20<58:57,  1.42it/s]"
          ]
        },
        {
          "output_type": "stream",
          "name": "stdout",
          "text": [
            "Example 100\n",
            "Question: What is a powerful chemical that can have a wide range of adverse effects on almost every part of your body?\n",
            "Short Answer: Alcohol\n",
            "Expanded Answer: Alcohol is a powerful chemical that can have a wide range of adverse effects on almost every part of your body.\n"
          ]
        },
        {
          "output_type": "stream",
          "name": "stderr",
          "text": [
            "Expanding answers:   4%|▍         | 200/5121 [02:32<1:01:45,  1.33it/s]"
          ]
        },
        {
          "output_type": "stream",
          "name": "stdout",
          "text": [
            "Example 200\n",
            "Question: What is the main treatment for anal cancer?\n",
            "Short Answer: chemoradiation\n",
            "Expanded Answer: The main treatment for anal cancer is a combination of radiotherapy and chemotherapy, known as chemoradiation.\n"
          ]
        },
        {
          "output_type": "stream",
          "name": "stderr",
          "text": [
            "Expanding answers:   6%|▌         | 300/5121 [04:00<1:46:48,  1.33s/it]"
          ]
        },
        {
          "output_type": "stream",
          "name": "stdout",
          "text": [
            "Example 300\n",
            "Question: What is the name of the type of axial spondyloarthritis where inflammation of the sacroiliac joints can be seen on an X-ray?\n",
            "Short Answer: Ankylosing spondylitis\n",
            "Expanded Answer: Ankylosing spondylitis is the type of axial spondyloarthritis where inflammation of the sacroiliac joints can be seen on an X-ray.\n"
          ]
        },
        {
          "output_type": "stream",
          "name": "stderr",
          "text": [
            "Expanding answers:   8%|▊         | 400/5121 [05:19<56:00,  1.40it/s]"
          ]
        },
        {
          "output_type": "stream",
          "name": "stdout",
          "text": [
            "Example 400\n",
            "Question: What is the most common type of brain imaging scan?\n",
            "Short Answer: magnetic resonance imaging (MRI) scan\n",
            "Expanded Answer: The most common type of brain imaging scan is a magnetic resonance imaging (MRI) scan.\n"
          ]
        },
        {
          "output_type": "stream",
          "name": "stderr",
          "text": [
            "Expanding answers:  10%|▉         | 500/5121 [06:34<1:10:00,  1.10it/s]"
          ]
        },
        {
          "output_type": "stream",
          "name": "stdout",
          "text": [
            "Example 500\n",
            "Question: What is the best way to prevent schistosomiasis?\n",
            "Short Answer: avoid exposure to contaminated water\n",
            "Expanded Answer: The best way to prevent schistosomiasis is to avoid exposure to contaminated water, by refraining from activities such as paddling, swimming, and washing in fresh water in affected areas, and instead opting for swimming in the sea or chlorinated swimming pools.\n"
          ]
        },
        {
          "output_type": "stream",
          "name": "stderr",
          "text": [
            "Expanding answers:  12%|█▏        | 600/5121 [07:52<51:54,  1.45it/s]"
          ]
        },
        {
          "output_type": "stream",
          "name": "stdout",
          "text": [
            "Example 600\n",
            "Question: What is the name of the treatment for Bowen's disease?\n",
            "Short Answer: cryotherapy\n",
            "Expanded Answer: The name of the treatment for Bowen's disease is cryotherapy, where liquid nitrogen is sprayed on to the affected skin to freeze it.\n"
          ]
        },
        {
          "output_type": "stream",
          "name": "stderr",
          "text": [
            "Expanding answers:  14%|█▎        | 700/5121 [09:06<48:06,  1.53it/s]"
          ]
        },
        {
          "output_type": "stream",
          "name": "stdout",
          "text": [
            "Example 700\n",
            "Question: What is the name of the section that discusses symptoms of a broken finger or thumb?\n",
            "Short Answer: Broken finger or thumb\n",
            "Expanded Answer: The section that discusses symptoms of a broken finger or thumb is called \"Broken finger or thumb.\"\n"
          ]
        },
        {
          "output_type": "stream",
          "name": "stderr",
          "text": [
            "Expanding answers:  16%|█▌        | 800/5121 [10:19<1:01:25,  1.17it/s]"
          ]
        },
        {
          "output_type": "stream",
          "name": "stdout",
          "text": [
            "Example 800\n",
            "Question: What should you do if you think you might have carbon monoxide poisoning?\n",
            "Short Answer: stop using appliances you think might be making carbon monoxide (such as a boiler, cooker or heater) if you can open any windows and doors to let fresh air in go outside get medical advice as soon as possible - do not go back into the affected building until you have got advice\n",
            "Expanded Answer: If you think you might have carbon monoxide poisoning, you should immediately stop using appliances you suspect are emitting carbon monoxide, such as a boiler, cooker, or heater. Open windows and doors to let fresh air in, go outside, and seek medical advice as soon as possible. Do not re-enter the affected building until you have received guidance.\n"
          ]
        },
        {
          "output_type": "stream",
          "name": "stderr",
          "text": [
            "Expanding answers:  18%|█▊        | 900/5121 [11:32<47:41,  1.48it/s]"
          ]
        },
        {
          "output_type": "stream",
          "name": "stdout",
          "text": [
            "Example 900\n",
            "Question: What is the first thing a doctor will do if you have cervical spondylosis?\n",
            "Short Answer: examine your neck and shoulder\n",
            "Expanded Answer: The first thing a doctor will do if you have cervical spondylosis is examine your neck and shoulder to assess your condition.\n"
          ]
        },
        {
          "output_type": "stream",
          "name": "stderr",
          "text": [
            "Expanding answers:  20%|█▉        | 1000/5121 [12:46<53:55,  1.27it/s]"
          ]
        },
        {
          "output_type": "stream",
          "name": "stdout",
          "text": [
            "Example 1000\n",
            "Question: What is the name of the condition that can be prevented?\n",
            "Short Answer: COPD\n",
            "Expanded Answer: Chronic obstructive pulmonary disease (COPD) is the name of the condition that can be prevented.\n"
          ]
        },
        {
          "output_type": "stream",
          "name": "stderr",
          "text": [
            "Expanding answers:  21%|██▏       | 1100/5121 [14:01<54:47,  1.22it/s]  "
          ]
        },
        {
          "output_type": "stream",
          "name": "stdout",
          "text": [
            "Example 1100\n",
            "Question: What is the protein called that is suitable for most people with coeliac disease but may trigger symptoms in a few people?\n",
            "Short Answer: avenin\n",
            "Expanded Answer: The protein called avenin is suitable for most people with coeliac disease but may trigger symptoms in a few people.\n"
          ]
        },
        {
          "output_type": "stream",
          "name": "stderr",
          "text": [
            "Expanding answers:  23%|██▎       | 1200/5121 [15:13<48:00,  1.36it/s]"
          ]
        },
        {
          "output_type": "stream",
          "name": "stdout",
          "text": [
            "Example 1200\n",
            "Question: What is the best way to get free rapid lateral flow test kits?\n",
            "Short Answer: Find a pharmacy that offers free COVID-19 rapid lateral flow tests\n",
            "Expanded Answer: The best way to get free rapid lateral flow test kits is to find a pharmacy that offers free COVID-19 rapid lateral flow tests.\n"
          ]
        },
        {
          "output_type": "stream",
          "name": "stderr",
          "text": [
            "Expanding answers:  25%|██▌       | 1300/5121 [16:26<43:37,  1.46it/s]"
          ]
        },
        {
          "output_type": "stream",
          "name": "stdout",
          "text": [
            "Example 1300\n",
            "Question: What is the best way to get help if you have hearing loss?\n",
            "Short Answer: Urgent advice: Ask for an urgent GP appointment or get help from NHS 111\n",
            "Expanded Answer: The best way to get help if you have hearing loss is to ask for an urgent GP appointment or seek assistance from NHS 111.\n"
          ]
        },
        {
          "output_type": "stream",
          "name": "stderr",
          "text": [
            "Expanding answers:  27%|██▋       | 1400/5121 [17:41<46:08,  1.34it/s]"
          ]
        },
        {
          "output_type": "stream",
          "name": "stdout",
          "text": [
            "Example 1400\n",
            "Question: What are some ways to keep your body healthy?\n",
            "Short Answer: Eat a healthy, balanced diet and drink plenty of fluids. Exercise regularly.\n",
            "Expanded Answer: To keep your body healthy, it is important to eat a healthy, balanced diet, drink plenty of fluids, and exercise regularly.\n"
          ]
        },
        {
          "output_type": "stream",
          "name": "stderr",
          "text": [
            "Expanding answers:  29%|██▉       | 1500/5121 [19:00<50:54,  1.19it/s]"
          ]
        },
        {
          "output_type": "stream",
          "name": "stdout",
          "text": [
            "Example 1500\n",
            "Question: What is the name of the type of insulin pump that works with a continuous glucose monitor to automatically give you the right amount of insulin based on your blood glucose levels?\n",
            "Short Answer: hybrid closed loop system\n",
            "Expanded Answer: The type of insulin pump that works with a continuous glucose monitor to automatically give you the right amount of insulin based on your blood glucose levels is called a hybrid closed loop system.\n"
          ]
        },
        {
          "output_type": "stream",
          "name": "stderr",
          "text": [
            "Expanding answers:  31%|███       | 1600/5121 [20:10<41:18,  1.42it/s]"
          ]
        },
        {
          "output_type": "stream",
          "name": "stdout",
          "text": [
            "Example 1600\n",
            "Question: What can cause stomach problems or constipation?\n",
            "Short Answer: NSAIDs (such as ibuprofen) or opioid painkillers\n",
            "Expanded Answer: NSAIDs (such as ibuprofen) or opioid painkillers (such as codeine) can cause stomach problems or constipation.\n"
          ]
        },
        {
          "output_type": "stream",
          "name": "stderr",
          "text": [
            "Expanding answers:  33%|███▎      | 1700/5121 [21:24<42:12,  1.35it/s]"
          ]
        },
        {
          "output_type": "stream",
          "name": "stdout",
          "text": [
            "Example 1700\n",
            "Question: What can cause tummy pain?\n",
            "Short Answer: stomach bugs and trapped wind\n",
            "Expanded Answer: Tummy pain can be caused by stomach bugs and trapped wind.\n"
          ]
        },
        {
          "output_type": "stream",
          "name": "stderr",
          "text": [
            "Expanding answers:  35%|███▌      | 1800/5121 [22:38<36:52,  1.50it/s]"
          ]
        },
        {
          "output_type": "stream",
          "name": "stdout",
          "text": [
            "Example 1800\n",
            "Question: What is the name for a group of rare inherited skin disorders that cause the skin to become very fragile?\n",
            "Short Answer: Epidermolysis bullosa\n",
            "Expanded Answer: Epidermolysis bullosa is the name for a group of rare inherited skin disorders that cause the skin to become very fragile.\n"
          ]
        },
        {
          "output_type": "stream",
          "name": "stderr",
          "text": [
            "Expanding answers:  37%|███▋      | 1900/5121 [23:59<1:14:43,  1.39s/it]"
          ]
        },
        {
          "output_type": "stream",
          "name": "stdout",
          "text": [
            "Example 1900\n",
            "Question: What is the name of the small, plastic T-shaped device placed in your womb that slowly releases the progestogen hormone levonorgestrel?\n",
            "Short Answer: The levonorgestrel intrauterine system\n",
            "Expanded Answer: The small, plastic T-shaped device placed in your womb that slowly releases the progestogen hormone levonorgestrel is called the levonorgestrel intrauterine system (LNG-IUS).\n"
          ]
        },
        {
          "output_type": "stream",
          "name": "stderr",
          "text": [
            "Expanding answers:  39%|███▉      | 2000/5121 [25:16<33:40,  1.54it/s]"
          ]
        },
        {
          "output_type": "stream",
          "name": "stdout",
          "text": [
            "Example 2000\n",
            "Question: What is the name of the procedure that removes the gallbladder?\n",
            "Short Answer: laparoscopic cholecystectomy\n",
            "Expanded Answer: The procedure that removes the gallbladder is called a laparoscopic cholecystectomy.\n"
          ]
        },
        {
          "output_type": "stream",
          "name": "stderr",
          "text": [
            "Expanding answers:  41%|████      | 2100/5121 [26:29<33:32,  1.50it/s]"
          ]
        },
        {
          "output_type": "stream",
          "name": "stdout",
          "text": [
            "Example 2100\n",
            "Question: What is the name of the laser treatment that can be used to open up drainage tubes?\n",
            "Short Answer: laser trabeculoplasty\n",
            "Expanded Answer: The laser treatment that can be used to open up drainage tubes is called laser trabeculoplasty.\n"
          ]
        },
        {
          "output_type": "stream",
          "name": "stderr",
          "text": [
            "Expanding answers:  43%|████▎     | 2200/5121 [27:40<33:24,  1.46it/s]"
          ]
        },
        {
          "output_type": "stream",
          "name": "stdout",
          "text": [
            "Example 2200\n",
            "Question: What are the common causes of head lice?\n",
            "Short Answer: They are not caused by dirty hair and are picked up by head-to-head contact\n",
            "Expanded Answer: Head lice are commonly picked up through head-to-head contact and are not caused by having dirty hair.\n"
          ]
        },
        {
          "output_type": "stream",
          "name": "stderr",
          "text": [
            "Expanding answers:  45%|████▍     | 2300/5121 [28:51<36:44,  1.28it/s]"
          ]
        },
        {
          "output_type": "stream",
          "name": "stdout",
          "text": [
            "Example 2300\n",
            "Question: What device is implanted into the artery in hospital?\n",
            "Short Answer: pulmonary artery pressure sensor\n",
            "Expanded Answer: The device that is implanted into the artery in hospital is a pulmonary artery pressure sensor.\n"
          ]
        },
        {
          "output_type": "stream",
          "name": "stderr",
          "text": [
            "Expanding answers:  47%|████▋     | 2400/5121 [30:04<32:30,  1.40it/s]"
          ]
        },
        {
          "output_type": "stream",
          "name": "stdout",
          "text": [
            "Example 2400\n",
            "Question: What is a sign of diabetic ketoacidosis?\n",
            "Short Answer: A high level of ketones\n",
            "Expanded Answer: A sign of diabetic ketoacidosis is indicated by a high level of ketones in the blood or urine.\n"
          ]
        },
        {
          "output_type": "stream",
          "name": "stderr",
          "text": [
            "Expanding answers:  49%|████▉     | 2500/5121 [41:19<31:53,  1.37it/s]"
          ]
        },
        {
          "output_type": "stream",
          "name": "stdout",
          "text": [
            "Example 2500\n",
            "Question: What are the two types of brain scans used to diagnose hydrocephalus?\n",
            "Short Answer: CT scans and MRI scans\n",
            "Expanded Answer: The two types of brain scans used to diagnose hydrocephalus are CT scans and MRI scans.\n"
          ]
        },
        {
          "output_type": "stream",
          "name": "stderr",
          "text": [
            "Expanding answers:  51%|█████     | 2600/5121 [42:33<27:52,  1.51it/s]"
          ]
        },
        {
          "output_type": "stream",
          "name": "stdout",
          "text": [
            "Example 2600\n",
            "Question: What can cause total incontinence?\n",
            "Short Answer: a problem with your bladder\n",
            "Expanded Answer: Total incontinence can be caused by a problem with your bladder.\n"
          ]
        },
        {
          "output_type": "stream",
          "name": "stderr",
          "text": [
            "Expanding answers:  53%|█████▎    | 2700/5121 [43:48<29:43,  1.36it/s]"
          ]
        },
        {
          "output_type": "stream",
          "name": "stdout",
          "text": [
            "Example 2700\n",
            "Question: What is the most common cause of kernicterus?\n",
            "Short Answer: newborn jaundice\n",
            "Expanded Answer: Newborn jaundice is the most common cause of kernicterus.\n"
          ]
        },
        {
          "output_type": "stream",
          "name": "stderr",
          "text": [
            "Expanding answers:  55%|█████▍    | 2800/5121 [44:57<27:02,  1.43it/s]"
          ]
        },
        {
          "output_type": "stream",
          "name": "stdout",
          "text": [
            "Example 2800\n",
            "Question: What is the first thing you should do if you have a meniscus tear?\n",
            "Short Answer: Urgent advice: Ask for an urgent GP appointment or get help from NHS 111\n",
            "Expanded Answer: If you have a meniscus tear, the first thing you should do is ask for an urgent GP appointment or seek help from NHS 111.\n"
          ]
        },
        {
          "output_type": "stream",
          "name": "stderr",
          "text": [
            "Expanding answers:  57%|█████▋    | 2900/5121 [46:17<25:09,  1.47it/s]"
          ]
        },
        {
          "output_type": "stream",
          "name": "stdout",
          "text": [
            "Example 2900\n",
            "Question: What is the main treatment for AML?\n",
            "Short Answer: Chemotherapy\n",
            "Expanded Answer: The main treatment for AML is chemotherapy, which is used to kill as many leukaemia cells in the body as possible and reduce the risk of the condition coming back.\n"
          ]
        },
        {
          "output_type": "stream",
          "name": "stderr",
          "text": [
            "Expanding answers:  59%|█████▊    | 3000/5121 [47:29<23:03,  1.53it/s]"
          ]
        },
        {
          "output_type": "stream",
          "name": "stdout",
          "text": [
            "Example 3000\n",
            "Question: What is the single biggest risk factor for lung cancer?\n",
            "Short Answer: Smoking cigarettes\n",
            "Expanded Answer: Smoking cigarettes is identified as the single biggest risk factor for developing lung cancer.\n"
          ]
        },
        {
          "output_type": "stream",
          "name": "stderr",
          "text": [
            "Expanding answers:  61%|██████    | 3100/5121 [48:44<23:27,  1.44it/s]"
          ]
        },
        {
          "output_type": "stream",
          "name": "stdout",
          "text": [
            "Example 3100\n",
            "Question: What is the most common cause of malnutrition?\n",
            "Short Answer: long-term health conditions\n",
            "Expanded Answer: The most common cause of malnutrition is long-term health conditions that affect appetite, weight, and/or how well nutrients are absorbed by the gut, such as Crohn's disease.\n"
          ]
        },
        {
          "output_type": "stream",
          "name": "stderr",
          "text": [
            "Expanding answers:  62%|██████▏   | 3200/5121 [49:58<20:30,  1.56it/s]"
          ]
        },
        {
          "output_type": "stream",
          "name": "stdout",
          "text": [
            "Example 3200\n",
            "Question: What is the name of the condition that can be life-threatening?\n",
            "Short Answer: Middle East respiratory syndrome\n",
            "Expanded Answer: The condition that can be life-threatening is called Middle East respiratory syndrome (MERS).\n"
          ]
        },
        {
          "output_type": "stream",
          "name": "stderr",
          "text": [
            "Expanding answers:  64%|██████▍   | 3300/5121 [51:11<21:08,  1.44it/s]"
          ]
        },
        {
          "output_type": "stream",
          "name": "stdout",
          "text": [
            "Example 3300\n",
            "Question: What is the average incubation period for mumps?\n",
            "Short Answer: 17 days\n",
            "Expanded Answer: The average incubation period for mumps is around 17 days.\n"
          ]
        },
        {
          "output_type": "stream",
          "name": "stderr",
          "text": [
            "Expanding answers:  66%|██████▋   | 3400/5121 [52:21<18:20,  1.56it/s]"
          ]
        },
        {
          "output_type": "stream",
          "name": "stdout",
          "text": [
            "Example 3400\n",
            "Question: What is the Epworth sleepiness scale?\n",
            "Short Answer: a questionnaire used to assess how likely it is you'll fall asleep while doing different activities\n",
            "Expanded Answer: The Epworth sleepiness scale is a questionnaire that is utilized to evaluate the likelihood of an individual falling asleep while engaging in various activities.\n"
          ]
        },
        {
          "output_type": "stream",
          "name": "stderr",
          "text": [
            "Expanding answers:  68%|██████▊   | 3500/5121 [53:35<17:13,  1.57it/s]"
          ]
        },
        {
          "output_type": "stream",
          "name": "stdout",
          "text": [
            "Example 3500\n",
            "Question: What is the name of the condition that can affect people with Noonan syndrome?\n",
            "Short Answer: lymphoedema\n",
            "Expanded Answer: Lymphoedema is the name of the condition that can affect people with Noonan syndrome.\n"
          ]
        },
        {
          "output_type": "stream",
          "name": "stderr",
          "text": [
            "Expanding answers:  70%|███████   | 3600/5121 [54:48<16:45,  1.51it/s]"
          ]
        },
        {
          "output_type": "stream",
          "name": "stdout",
          "text": [
            "Example 3600\n",
            "Question: What is the most common injury in people with osteoporosis?\n",
            "Short Answer: broken wrist\n",
            "Expanded Answer: The most common injury in people with osteoporosis is a broken wrist.\n"
          ]
        },
        {
          "output_type": "stream",
          "name": "stderr",
          "text": [
            "Expanding answers:  72%|███████▏  | 3700/5121 [56:05<18:02,  1.31it/s]"
          ]
        },
        {
          "output_type": "stream",
          "name": "stdout",
          "text": [
            "Example 3700\n",
            "Question: What is the aim of your treatment if you have advanced pancreatic cancer?\n",
            "Short Answer: to limit the cancer and its symptoms, and help you live longer\n",
            "Expanded Answer: The aim of your treatment if you have advanced pancreatic cancer is to limit the cancer and its symptoms, and help you live longer.\n"
          ]
        },
        {
          "output_type": "stream",
          "name": "stderr",
          "text": [
            "Expanding answers:  74%|███████▍  | 3800/5121 [57:19<14:59,  1.47it/s]"
          ]
        },
        {
          "output_type": "stream",
          "name": "stdout",
          "text": [
            "Example 3800\n",
            "Question: What can help with mood swings, low mood and anxiety around the time of the menopause and perimenopause?\n",
            "Short Answer: Cognitive behavioural therapy\n",
            "Expanded Answer: Cognitive behavioural therapy (CBT) is a type of talking therapy that can help with mood swings, low mood, and anxiety around the time of menopause and perimenopause.\n"
          ]
        },
        {
          "output_type": "stream",
          "name": "stderr",
          "text": [
            "Expanding answers:  76%|███████▌  | 3900/5121 [58:36<17:48,  1.14it/s]"
          ]
        },
        {
          "output_type": "stream",
          "name": "stdout",
          "text": [
            "Example 3900\n",
            "Question: What is the most common type of poisoning?\n",
            "Short Answer: accidental poisoning\n",
            "Expanded Answer: The most common type of poisoning is accidental poisoning, which often occurs at home and poses a higher risk to children under the age of 5.\n"
          ]
        },
        {
          "output_type": "stream",
          "name": "stderr",
          "text": [
            "Expanding answers:  78%|███████▊  | 4000/5121 [59:51<15:32,  1.20it/s]"
          ]
        },
        {
          "output_type": "stream",
          "name": "stdout",
          "text": [
            "Example 4000\n",
            "Question: What is the name of the condition that is caused by contact with strong chemicals?\n",
            "Short Answer: dyshidrotic eczema\n",
            "Expanded Answer: The condition that is caused by contact with strong chemicals is called dyshidrotic eczema.\n"
          ]
        },
        {
          "output_type": "stream",
          "name": "stderr",
          "text": [
            "Expanding answers:  80%|████████  | 4100/5121 [1:01:04<11:45,  1.45it/s]"
          ]
        },
        {
          "output_type": "stream",
          "name": "stdout",
          "text": [
            "Example 4100\n",
            "Question: What can be done to stop progressive supranuclear palsy gradually worsening?\n",
            "Short Answer: There's currently nothing that can be done to stop PSP gradually worsening\n",
            "Expanded Answer: Unfortunately, there is currently no known treatment or intervention that can effectively halt the gradual worsening of progressive supranuclear palsy (PSP).\n"
          ]
        },
        {
          "output_type": "stream",
          "name": "stderr",
          "text": [
            "Expanding answers:  82%|████████▏ | 4200/5121 [1:02:17<11:08,  1.38it/s]"
          ]
        },
        {
          "output_type": "stream",
          "name": "stdout",
          "text": [
            "Example 4200\n",
            "Question: What is the name of the group that provides information and support for people affected by IPF?\n",
            "Short Answer: UK Charities Action for Pulmonary Fibrosis\n",
            "Expanded Answer: The group that provides information and support for people affected by IPF is UK Charities Action for Pulmonary Fibrosis.\n"
          ]
        },
        {
          "output_type": "stream",
          "name": "stderr",
          "text": [
            "Expanding answers:  84%|████████▍ | 4300/5121 [1:03:33<08:45,  1.56it/s]"
          ]
        },
        {
          "output_type": "stream",
          "name": "stdout",
          "text": [
            "Example 4300\n",
            "Question: What is the name of the gene that causes Rett syndrome?\n",
            "Short Answer: MECP2\n",
            "Expanded Answer: The gene that causes Rett syndrome is called MECP2.\n"
          ]
        },
        {
          "output_type": "stream",
          "name": "stderr",
          "text": [
            "Expanding answers:  86%|████████▌ | 4400/5121 [1:04:52<10:45,  1.12it/s]"
          ]
        },
        {
          "output_type": "stream",
          "name": "stdout",
          "text": [
            "Example 4400\n",
            "Question: What is the first sign of scarlet fever?\n",
            "Short Answer: high temperature\n",
            "Expanded Answer: The first sign of scarlet fever is a high temperature.\n"
          ]
        },
        {
          "output_type": "stream",
          "name": "stderr",
          "text": [
            "Expanding answers:  88%|████████▊ | 4500/5121 [1:06:08<07:04,  1.46it/s]"
          ]
        },
        {
          "output_type": "stream",
          "name": "stdout",
          "text": [
            "Example 4500\n",
            "Question: What is the main test for melanoma?\n",
            "Short Answer: excision biopsy\n",
            "Expanded Answer: The main test for melanoma is an excision biopsy, where a specialist cuts out the mole and a small area of surrounding skin to be sent to a lab and checked for cancer.\n"
          ]
        },
        {
          "output_type": "stream",
          "name": "stderr",
          "text": [
            "Expanding answers:  90%|████████▉ | 4600/5121 [1:08:51<05:15,  1.65it/s]"
          ]
        },
        {
          "output_type": "stream",
          "name": "stdout",
          "text": [
            "Example 4600\n",
            "Question: What can cause pain when peeing on your eyes?\n",
            "Short Answer: blisters and sores\n",
            "Expanded Answer: Blisters and sores on your eyes can cause pain when peeing.\n"
          ]
        },
        {
          "output_type": "stream",
          "name": "stderr",
          "text": [
            "Expanding answers:  92%|█████████▏| 4700/5121 [1:10:07<07:36,  1.09s/it]"
          ]
        },
        {
          "output_type": "stream",
          "name": "stdout",
          "text": [
            "Example 4700\n",
            "Question: What is the best way to treat sunburn?\n",
            "Short Answer: get out of the sun as soon as possible\n",
            "Expanded Answer: The best way to treat sunburn is to get out of the sun as soon as possible.\n"
          ]
        },
        {
          "output_type": "stream",
          "name": "stderr",
          "text": [
            "Expanding answers:  94%|█████████▎| 4800/5121 [1:11:16<03:09,  1.69it/s]"
          ]
        },
        {
          "output_type": "stream",
          "name": "stdout",
          "text": [
            "Example 4800\n",
            "Question: What is the purpose of chemotherapy?\n",
            "Short Answer: kill cancer cells\n",
            "Expanded Answer: The purpose of chemotherapy is to use medicines to kill cancer cells.\n"
          ]
        },
        {
          "output_type": "stream",
          "name": "stderr",
          "text": [
            "Expanding answers:  96%|█████████▌| 4900/5121 [1:12:32<02:44,  1.34it/s]"
          ]
        },
        {
          "output_type": "stream",
          "name": "stdout",
          "text": [
            "Example 4900\n",
            "Question: What is the name of the condition that causes your fingers to bend into the palm of your hand?\n",
            "Short Answer: Dupuytren's contracture\n",
            "Expanded Answer: The condition that causes one or more fingers to bend into the palm of your hand is called Dupuytren's contracture.\n"
          ]
        },
        {
          "output_type": "stream",
          "name": "stderr",
          "text": [
            "Expanding answers:  98%|█████████▊| 5000/5121 [1:13:49<01:34,  1.29it/s]"
          ]
        },
        {
          "output_type": "stream",
          "name": "stdout",
          "text": [
            "Example 5000\n",
            "Question: What are the main symptoms of vaginal cancer?\n",
            "Short Answer: a lump in the vagina ulcers and other skin changes in or around the vagina\n",
            "Expanded Answer: The main symptoms of vaginal cancer include the presence of a lump in the vagina and ulcers and other skin changes in or around the vagina.\n"
          ]
        },
        {
          "output_type": "stream",
          "name": "stderr",
          "text": [
            "Expanding answers: 100%|█████████▉| 5100/5121 [1:15:02<00:13,  1.51it/s]"
          ]
        },
        {
          "output_type": "stream",
          "name": "stdout",
          "text": [
            "Example 5100\n",
            "Question: What can be done to help prevent infecting others?\n",
            "Short Answer: wash your hands with soap and water after going to the toilet or changing nappies\n",
            "Expanded Answer: To help prevent infecting others, you should wash your hands with soap and water after going to the toilet or changing nappies.\n"
          ]
        },
        {
          "output_type": "stream",
          "name": "stderr",
          "text": [
            "Expanding answers: 100%|██████████| 5121/5121 [1:15:16<00:00,  1.13it/s]\n"
          ]
        }
      ]
    },
    {
      "cell_type": "markdown",
      "source": [
        "##Saving Expanded dataset"
      ],
      "metadata": {
        "id": "_HrEKvXfyqVo"
      }
    },
    {
      "cell_type": "code",
      "source": [
        "save_path = \"/content/drive/MyDrive/expanded_dataset.json\"\n",
        "\n",
        "# Save as JSON\n",
        "with open(save_path, \"w\", encoding=\"utf-8\") as f:\n",
        "    json.dump(expanded_data, f, indent=2, ensure_ascii=False)\n",
        "\n",
        "print(f\"Saved to {save_path}\")"
      ],
      "metadata": {
        "id": "zbcfRz7Dydpj",
        "colab": {
          "base_uri": "https://localhost:8080/"
        },
        "outputId": "d0c3ebbf-054d-4f30-d2fc-67a89218b60d"
      },
      "execution_count": null,
      "outputs": [
        {
          "output_type": "stream",
          "name": "stdout",
          "text": [
            "Saved to /content/drive/MyDrive/expanded_dataset.json\n"
          ]
        }
      ]
    }
  ]
}